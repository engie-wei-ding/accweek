{
 "cells": [
  {
   "cell_type": "markdown",
   "metadata": {},
   "source": [
    "### 0. Creation dataset"
   ]
  },
  {
   "cell_type": "code",
   "execution_count": 27,
   "metadata": {},
   "outputs": [
    {
     "data": {
      "text/html": [
       "<div>\n",
       "<style>\n",
       "    .dataframe thead tr:only-child th {\n",
       "        text-align: right;\n",
       "    }\n",
       "\n",
       "    .dataframe thead th {\n",
       "        text-align: left;\n",
       "    }\n",
       "\n",
       "    .dataframe tbody tr th {\n",
       "        vertical-align: top;\n",
       "    }\n",
       "</style>\n",
       "<table border=\"1\" class=\"dataframe\">\n",
       "  <thead>\n",
       "    <tr style=\"text-align: right;\">\n",
       "      <th></th>\n",
       "      <th>boolean_column</th>\n",
       "      <th>categorical_column</th>\n",
       "      <th>float_column</th>\n",
       "      <th>integer_column</th>\n",
       "      <th>time_columns</th>\n",
       "    </tr>\n",
       "  </thead>\n",
       "  <tbody>\n",
       "    <tr>\n",
       "      <th>0</th>\n",
       "      <td>True</td>\n",
       "      <td>a</td>\n",
       "      <td>5.0</td>\n",
       "      <td>1</td>\n",
       "      <td>2010-01-01 00:00:00</td>\n",
       "    </tr>\n",
       "    <tr>\n",
       "      <th>1</th>\n",
       "      <td>False</td>\n",
       "      <td>b</td>\n",
       "      <td>2.5</td>\n",
       "      <td>2</td>\n",
       "      <td>2010-01-02 00:10:00</td>\n",
       "    </tr>\n",
       "    <tr>\n",
       "      <th>2</th>\n",
       "      <td>True</td>\n",
       "      <td>a</td>\n",
       "      <td>3.0</td>\n",
       "      <td>3</td>\n",
       "      <td>2010-01-03 00:00:00</td>\n",
       "    </tr>\n",
       "    <tr>\n",
       "      <th>3</th>\n",
       "      <td>False</td>\n",
       "      <td>c</td>\n",
       "      <td>4.5</td>\n",
       "      <td>4</td>\n",
       "      <td>2010-01-04 00:20:00</td>\n",
       "    </tr>\n",
       "  </tbody>\n",
       "</table>\n",
       "</div>"
      ],
      "text/plain": [
       "   boolean_column categorical_column  float_column  integer_column  \\\n",
       "0            True                  a           5.0               1   \n",
       "1           False                  b           2.5               2   \n",
       "2            True                  a           3.0               3   \n",
       "3           False                  c           4.5               4   \n",
       "\n",
       "         time_columns  \n",
       "0 2010-01-01 00:00:00  \n",
       "1 2010-01-02 00:10:00  \n",
       "2 2010-01-03 00:00:00  \n",
       "3 2010-01-04 00:20:00  "
      ]
     },
     "execution_count": 27,
     "metadata": {},
     "output_type": "execute_result"
    }
   ],
   "source": [
    "import pandas as pd\n",
    "import numpy as np\n",
    "\n",
    "df = pd.DataFrame({\n",
    "    'time_columns' : ['2010-01-01 00:00:00','2010-01-02 00:10:00','2010-01-03 00:00:00','2010-01-04 00:20:00'],\n",
    "    'boolean_column': [True, False, True, False], \n",
    "    'integer_column': [1, 2, 3, 4],\n",
    "    'float_column': [5.,2.5,3.,4.5],\n",
    "    'categorical_column': ['a', 'b', 'a', 'c']\n",
    "})\n",
    "df['time_columns'] = pd.to_datetime(df['time_columns'], format='%Y-%m-%d %H:%M:%S')\n",
    "df"
   ]
  },
  {
   "cell_type": "markdown",
   "metadata": {},
   "source": [
    "### 1. variables' type verification"
   ]
  },
  {
   "cell_type": "code",
   "execution_count": 2,
   "metadata": {},
   "outputs": [
    {
     "name": "stdout",
     "output_type": "stream",
     "text": [
      "   boolean_column\n",
      "0            True\n",
      "1           False\n",
      "2            True\n",
      "3           False\n",
      "   float_column  integer_column\n",
      "0           5.0               1\n",
      "1           2.5               2\n",
      "2           3.0               3\n",
      "3           4.5               4\n",
      "  categorical_column\n",
      "0                  a\n",
      "1                  b\n",
      "2                  a\n",
      "3                  c\n",
      "         time_columns\n",
      "0 2010-01-01 00:00:00\n",
      "1 2010-01-02 00:10:00\n",
      "2 2010-01-03 00:00:00\n",
      "3 2010-01-04 00:20:00\n"
     ]
    }
   ],
   "source": [
    "boolean_columns = df.select_dtypes(include=['bool'])\n",
    "print(boolean_columns)\n",
    "\n",
    "numerical_columns = df.select_dtypes(include=[np.number])\n",
    "print(numerical_columns)\n",
    "\n",
    "categorical_columns = df.select_dtypes(include=['O'])\n",
    "print(categorical_columns)\n",
    "\n",
    "time_columns = df.select_dtypes(include=['datetime'])\n",
    "print(time_columns)"
   ]
  },
  {
   "cell_type": "markdown",
   "metadata": {},
   "source": [
    "### 2. Feature selection class"
   ]
  },
  {
   "cell_type": "code",
   "execution_count": 3,
   "metadata": {
    "collapsed": true
   },
   "outputs": [],
   "source": [
    "from sklearn.base import BaseEstimator, TransformerMixin\n",
    "class TypeSelector(BaseEstimator, TransformerMixin):\n",
    "    def __init__(self, dtype):\n",
    "        self.dtype = dtype\n",
    "    def fit(self, X, y=None):\n",
    "        return self\n",
    "    def transform(self, X):\n",
    "        assert isinstance(X, pd.DataFrame)\n",
    "        return X.select_dtypes(include=[self.dtype])"
   ]
  },
  {
   "cell_type": "code",
   "execution_count": 4,
   "metadata": {},
   "outputs": [
    {
     "name": "stdout",
     "output_type": "stream",
     "text": [
      "   boolean_column\n",
      "0            True\n",
      "1           False\n",
      "2            True\n",
      "3           False\n",
      "   float_column  integer_column\n",
      "0           5.0               1\n",
      "1           2.5               2\n",
      "2           3.0               3\n",
      "3           4.5               4\n",
      "  categorical_column\n",
      "0                  a\n",
      "1                  b\n",
      "2                  a\n",
      "3                  c\n",
      "         time_columns\n",
      "0 2010-01-01 00:00:00\n",
      "1 2010-01-02 00:10:00\n",
      "2 2010-01-03 00:00:00\n",
      "3 2010-01-04 00:20:00\n"
     ]
    }
   ],
   "source": [
    "obj_type_selector = TypeSelector(dtype = 'bool')\n",
    "print(obj_type_selector.fit_transform(df))\n",
    "\n",
    "obj_type_selector = TypeSelector(dtype = np.number)\n",
    "print(obj_type_selector.fit_transform(df))\n",
    "\n",
    "obj_type_selector = TypeSelector(dtype = 'O')\n",
    "print(obj_type_selector.fit_transform(df))\n",
    "\n",
    "obj_type_selector = TypeSelector(dtype = 'datetime')\n",
    "print(obj_type_selector.fit_transform(df))\n"
   ]
  },
  {
   "cell_type": "markdown",
   "metadata": {},
   "source": [
    "### 3. Union of the standalized variables"
   ]
  },
  {
   "cell_type": "code",
   "execution_count": 5,
   "metadata": {
    "collapsed": true
   },
   "outputs": [],
   "source": [
    "from sklearn.pipeline import Pipeline\n",
    "?Pipeline"
   ]
  },
  {
   "cell_type": "code",
   "execution_count": 6,
   "metadata": {
    "collapsed": true
   },
   "outputs": [],
   "source": [
    "from sklearn.pipeline import Pipeline, FeatureUnion\n",
    "from sklearn.preprocessing import LabelEncoder, OneHotEncoder, StandardScaler\n",
    "\n",
    "list_mission_1 = [\n",
    "    ('features', FeatureUnion(n_jobs=1, transformer_list=[\n",
    "                                ('numericals_normality_2', Pipeline([\n",
    "                                    ('selector', TypeSelector(np.number)),\n",
    "                                    ('scaler', StandardScaler(with_mean=True, with_std=False))\n",
    "                                ])),\n",
    "        \n",
    "                                ('numericals_normality_1', Pipeline([\n",
    "                                    ('selector', TypeSelector(np.number)),\n",
    "                                    ('scaler', StandardScaler(with_mean=False, with_std=True))\n",
    "                                ]))]\n",
    "                             )\n",
    "    )]\n",
    "\n",
    "data_preparation_1 = Pipeline(steps=list_mission_1)"
   ]
  },
  {
   "cell_type": "code",
   "execution_count": 7,
   "metadata": {},
   "outputs": [
    {
     "data": {
      "text/plain": [
       "array([[ 1.25      , -1.5       ,  4.8507125 ,  0.89442719],\n",
       "       [-1.25      , -0.5       ,  2.42535625,  1.78885438],\n",
       "       [-0.75      ,  0.5       ,  2.9104275 ,  2.68328157],\n",
       "       [ 0.75      ,  1.5       ,  4.36564125,  3.57770876]])"
      ]
     },
     "execution_count": 7,
     "metadata": {},
     "output_type": "execute_result"
    }
   ],
   "source": [
    "data_preparation_1.fit_transform(df)"
   ]
  },
  {
   "cell_type": "markdown",
   "metadata": {},
   "source": [
    "### 4. Feature Creation"
   ]
  },
  {
   "cell_type": "code",
   "execution_count": 8,
   "metadata": {
    "collapsed": true
   },
   "outputs": [],
   "source": [
    "#add a supplementaire column in data preparation step new_column = cos(float_column)\n",
    "\n",
    "#we creat a class with the 'fit' and 'transform' methods in order to play in a pipeline structure\n",
    "\n",
    "class Define_cos_column(BaseEstimator, TransformerMixin):\n",
    "    def __init__(self, columns_name):\n",
    "        self.columns_name = columns_name\n",
    "    def fit(self, X, y=None):\n",
    "        return self\n",
    "    def transform(self, X):\n",
    "        assert isinstance(X, pd.DataFrame)\n",
    "        assert self.columns_name in X.columns\n",
    "        X[self.columns_name + '_cos'] = np.cos(X[self.columns_name])\n",
    "        return X"
   ]
  },
  {
   "cell_type": "code",
   "execution_count": 9,
   "metadata": {},
   "outputs": [
    {
     "data": {
      "text/plain": [
       "array([[ 1.25      , -1.5       ,  0.71322962,  4.8507125 ,  0.89442719,\n",
       "         0.56487176],\n",
       "       [-1.25      , -0.5       , -0.37157618,  2.42535625,  1.78885438,\n",
       "        -1.59536036],\n",
       "       [-0.75      ,  0.5       , -0.56042507,  2.9104275 ,  2.68328157,\n",
       "        -1.97142529],\n",
       "       [ 0.75      ,  1.5       ,  0.21877163,  4.36564125,  3.57770876,\n",
       "        -0.41976901]])"
      ]
     },
     "execution_count": 9,
     "metadata": {},
     "output_type": "execute_result"
    }
   ],
   "source": [
    "list_mission_2 = [('add_cos_column', Define_cos_column(columns_name = 'float_column'))] + list_mission_1\n",
    "data_preparation_2 = Pipeline(steps=list_mission_2)\n",
    "data_preparation_2.fit_transform(df)"
   ]
  },
  {
   "cell_type": "markdown",
   "metadata": {},
   "source": [
    "### 5. Support Vector Machine Modelling"
   ]
  },
  {
   "cell_type": "code",
   "execution_count": 26,
   "metadata": {},
   "outputs": [
    {
     "name": "stdout",
     "output_type": "stream",
     "text": [
      "observation -----------\n",
      "[ True False  True False]\n",
      "prediction -----------\n",
      "[ True False False False]\n"
     ]
    }
   ],
   "source": [
    "from sklearn.svm import LinearSVC\n",
    "\n",
    "list_mission_3 = list_mission_2 + [('estimator', LinearSVC(random_state=999))]\n",
    "list_mission_3\n",
    "data_preparation_3 = Pipeline(steps=list_mission_3)\n",
    "\n",
    "data_preparation_3.fit(X = df.iloc[:,1:], y= df.iloc[:,0] )\n",
    "data_preparation_3.predict(X = df.iloc[:,1:])\n",
    "\n",
    "print('observation -----------')\n",
    "print(df.iloc[:,0].values)\n",
    "\n",
    "print('prediction -----------')\n",
    "print(data_preparation_3.predict(X = df.iloc[:,1:]))"
   ]
  },
  {
   "cell_type": "markdown",
   "metadata": {},
   "source": [
    "### 6. Tunning"
   ]
  },
  {
   "cell_type": "code",
   "execution_count": 25,
   "metadata": {},
   "outputs": [
    {
     "name": "stdout",
     "output_type": "stream",
     "text": [
      "observation -----------\n",
      "[ True False  True False]\n",
      "prediction -----------\n",
      "[ True False False False]\n"
     ]
    }
   ],
   "source": [
    "from sklearn.model_selection import GridSearchCV\n",
    "\n",
    "list_mission_4 = list_mission_2 + [('estimator', \n",
    "                                    GridSearchCV(LinearSVC(random_state=999), {'C': [0.0001, 0.1, 1, 100, 100000]}, cv = 2)\n",
    "                                   )]\n",
    "data_preparation_4 = Pipeline(steps=list_mission_4)\n",
    "data_preparation_4.fit(X = df.iloc[:,1:], y= df.iloc[:,0] )\n",
    "data_preparation_4.predict(X = df.iloc[:,1:])\n",
    "\n",
    "print('observation -----------')\n",
    "print(df.iloc[:,0].values)\n",
    "\n",
    "print('prediction -----------')\n",
    "print(data_preparation_3.predict(X = df.iloc[:,1:]))\n"
   ]
  },
  {
   "cell_type": "code",
   "execution_count": null,
   "metadata": {
    "collapsed": true
   },
   "outputs": [],
   "source": []
  }
 ],
 "metadata": {
  "kernelspec": {
   "display_name": "Python 2",
   "language": "python",
   "name": "python2"
  },
  "language_info": {
   "codemirror_mode": {
    "name": "ipython",
    "version": 2
   },
   "file_extension": ".py",
   "mimetype": "text/x-python",
   "name": "python",
   "nbconvert_exporter": "python",
   "pygments_lexer": "ipython2",
   "version": "2.7.13"
  }
 },
 "nbformat": 4,
 "nbformat_minor": 1
}
